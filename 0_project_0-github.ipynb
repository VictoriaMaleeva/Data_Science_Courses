{
 "cells": [
  {
   "cell_type": "code",
   "execution_count": 8,
   "metadata": {},
   "outputs": [],
   "source": [
    "import numpy as np #импортируем пакет np\n",
    "\n",
    "#Определям новую функцию game_core_v3(), которая непосредственно угадывает число\n",
    "def game_core_v3(number):\n",
    "    '''Начинаем угадывать загаданное число predict с середины интервала (1,100). \n",
    "    Если число number меньше predict мы заменяем нижнюю границу интервала на (number + 1) - теперь мы сравниваем predict с серединой интервала который вдвое меньше изначального, чем увеличиваем эффективность кода. На следующем шага опять уменьшаем интервал в два раза, и повторяем итерации до нахождения загаданного числа predict.\n",
    "    Если число number больше predict алгоритм похожий, но в этом случае мы заменяем нижнюю границу интервала на (number + 1).\n",
    "    Функция принимает загаданное число и возвращает число попыток'''\n",
    "    count = 0 # устанавливаем счетчик попыток на 0\n",
    "    predict = np.random.randint(1,101) #генерируем случайную величину от 1 до 100\n",
    "    lower=1 # фиксируем нижний предел интервала\n",
    "    upper=100 # фиксируем верхний предел интервала\n",
    "    while True: # создаем бесконечный цикл\n",
    "        count+=1 # увеличиваем количество попыток на 1\n",
    "        number = (lower + upper) // 2 # фиксируем number равной середине интервала \n",
    "        if number < predict: \n",
    "            lower = number + 1 # если number меньше загаданного числа, заменяем нижнюю границу интервала на (number+1)\n",
    "        elif number > predict: \n",
    "            upper = number - 1 # если number больше загаданного числа, заменяем верхнюю границу интервала на (number+1)\n",
    "        else: break # если number = predict (мы угадываем число) останавливаем цикл\n",
    "    return(count) \n",
    "\n",
    "# Определям функцию score_game(), которая повторяет игру game_core_v3() 1000 раз о определяет \n",
    "# среднее число попыток угадать загаданное число.\n",
    "def score_game(game_core):\n",
    "    '''Запускаем игру 1000 раз, чтобы узнать, как быстро игра game_core_v3() угадывает число'''\n",
    "    count_ls = []\n",
    "    np.random.seed(123)  # фиксируем RANDOM SEED, чтобы результат был воспроизводимым\n",
    "    random_array = np.random.randint(1,101, size=(1000))\n",
    "    for number in random_array:\n",
    "        count_ls.append(game_core(number))\n",
    "    score = int(np.mean(count_ls))\n",
    "    print(f\"Ваш алгоритм угадывает число в среднем за {score} попыток\")\n",
    "    return(score)        "
   ]
  },
  {
   "cell_type": "code",
   "execution_count": 9,
   "metadata": {},
   "outputs": [
    {
     "name": "stdout",
     "output_type": "stream",
     "text": [
      "Ваш алгоритм угадывает число в среднем за 5 попыток\n"
     ]
    },
    {
     "data": {
      "text/plain": [
       "5"
      ]
     },
     "execution_count": 9,
     "metadata": {},
     "output_type": "execute_result"
    }
   ],
   "source": [
    "# Запускаем функцию score_game() и получаем среднее количество попыток угадать число в игре game_core_v3() \n",
    "score_game(game_core_v3)"
   ]
  },
  {
   "cell_type": "code",
   "execution_count": null,
   "metadata": {},
   "outputs": [],
   "source": []
  }
 ],
 "metadata": {
  "kernelspec": {
   "display_name": "Python 3",
   "language": "python",
   "name": "python3"
  },
  "language_info": {
   "codemirror_mode": {
    "name": "ipython",
    "version": 3
   },
   "file_extension": ".py",
   "mimetype": "text/x-python",
   "name": "python",
   "nbconvert_exporter": "python",
   "pygments_lexer": "ipython3",
   "version": "3.8.3"
  }
 },
 "nbformat": 4,
 "nbformat_minor": 4
}
